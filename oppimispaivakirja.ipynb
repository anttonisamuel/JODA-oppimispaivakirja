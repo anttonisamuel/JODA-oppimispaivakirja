{
 "cells": [
  {
   "cell_type": "code",
   "execution_count": 1,
   "id": "potential-congress",
   "metadata": {},
   "outputs": [],
   "source": [
    "# Ilmeisesti on best practice importtaa kaikki aina aluksi\n",
    "# Luento 1\n",
    "import pandas as pd\n",
    "import matplotlib.pyplot as plt\n",
    "from matplotlib import style\n",
    "style.use('ggplot')\n",
    "\n",
    "# Luento 2\n",
    "import scrapy\n",
    "\n",
    "# Luento 3\n",
    "import numpy as np\n",
    "from sklearn import preprocessing\n",
    "from sklearn.impute import SimpleImputer as Imputer\n",
    "from sklearn.model_selection import train_test_split\n",
    "from sklearn.metrics import mean_squared_error\n",
    "from sklearn.linear_model import SGDClassifier\n",
    "from sklearn import metrics\n",
    "\n",
    "# Luento 5\n",
    "from sklearn.metrics import accuracy_score\n",
    "from sklearn.linear_model import LogisticRegression\n",
    "from sklearn.decomposition import PCA\n",
    "\n",
    "from warnings import filterwarnings\n",
    "filterwarnings('ignore')"
   ]
  },
  {
   "cell_type": "markdown",
   "id": "lesbian-bulgarian",
   "metadata": {},
   "source": [
    "# Luento 1"
   ]
  },
  {
   "cell_type": "markdown",
   "id": "mounted-cotton",
   "metadata": {},
   "source": [
    "### Viikon Joda-opiskelut\n",
    "\n",
    "Viikon luennon katsoin tallenteelta, mutta demoluennon ensimmäisen puoliskon katsoin livenä. Päiväkirjan laatimisessa käytetty materiaali tulee lähinnä luentomateriaaleista, mutta esimerkiksi Jupyterin käyttöönotossa hain apua YouTubesta: https://www.youtube.com/watch?v=DKiI6NfSIe8&t=2s. "
   ]
  },
  {
   "cell_type": "markdown",
   "id": "arabic-curtis",
   "metadata": {},
   "source": [
    "### Datatiede?\n",
    "\n",
    "Datatiede on saanut paljon kritiikkiä siitä, että se on vain tilastotiedettä modernisoidulla nimellä ja datatieteilijä on vain tilastotieteilijä hienommalla titteliä. Asia ei todellisuudessa kuitenkaan ole näin: tilastollisen analyysin lisäksi datatieteilijän tulee hanskata monia muitakin aihealueita, kuten liiketoiminta, ohjelmointi, tietokannat sekä data tehokas viestintä yleisölleen esimerkiksi visualisoinnin kautta. Voidaan siis sanoa, että tilastotiede on osa datatiedettä.\n",
    "\n",
    "CRIPS-DM malli kuvaa mielestäni hyvin datatieteilijän työnkuvaa. Aluksi lähetään siitä, että ymmärretään omaa liiketoimintaa ja dataa. Tämän jälkeen täytyy ymmärtää, että miten ne liittyvät yhteen ja millainen data on ylipäätänsä relevanttia liiketoiminnan kannalta. Tämä data täytyy sen jälkeen ”siivota” kaikesta kyseenomaisessa tapauksessa epärelevantista datasta ja mallintaa siten, että se on helppo viestiä ja helposti ymmärrettävissä. Lopuksi datan perusteella pitää osata tehdä johtopäätöksiä liiketoiminnan tukemiseksi."
   ]
  },
  {
   "cell_type": "markdown",
   "id": "social-reputation",
   "metadata": {},
   "source": [
    "### Data\n",
    "\n",
    "Internet ja sen mukana tulleet hullutukset kuten sosiaalinen media ovat mahdollistaneet yritysten liiketoiminnan ainoastaan datan keräämiselle ja myymiselle (Netflixissä on tosi mielenkiintoinen dokkari asiaan liittyen). Yritykset kuten Facebook, keräävät käyttäjistään mahdollisimman paljon dataa ja selvittävät sen avulla, onko kyseinen henkilö esimerkiksi kiinnostunut ostamaan uusia kenkiä. Tämän jälkeen Facebook voi myydä esimerkiksi mainospaikkoja siten, että kenkävalmistajien mainokset näkyvät vain heille, joilla todennäköisesti on intressejä ostaa kengät. Esimerkiksi Google tililtäsi näkee, mitä kaikkea Google sinusta tietää. Netflix dokkaria lainaten, ”datankerääjän todennäköisesti tietävät poliittiset näkemyksesi paremmin kuin sinä itse”.\n",
    "\n",
    "Datan käsittelyn välineiden, kuten tekoälyn kehitys on mahdollistanut myös sen, että tästä datasta voidaan helposti jalostaa tietoa. Myös laskentatehon kasvaminen ja uusien työvälineiden jatkuva keksiminen ja päivittyminen ovat olleet vauhdittamassa datatieteen kehitystä ja kasvua. "
   ]
  },
  {
   "cell_type": "markdown",
   "id": "wrong-restoration",
   "metadata": {},
   "source": [
    "### Demo\n",
    "\n",
    "Edellä kerrotun teorian lisäksi opin myös datan käsittelemistä Jupyterilla ja Pythonilla. Alla olevan demo data on sama, kuin aiemmin linkkaamassa \"Jupyter Notebook Tutorial\"-videossa, ja se löytyy täältä: https://www.kaggle.com/ronitf/heart-disease-uci. "
   ]
  },
  {
   "cell_type": "code",
   "execution_count": null,
   "id": "extraordinary-conditioning",
   "metadata": {},
   "outputs": [],
   "source": [
    "# Luetaan data ja tallennetaan muuttujaan df\n",
    "original_df = pd.read_csv(\"heart.csv\")\n",
    "\n",
    "# Kopiodaan data uuteen muuttujaan, jotta ei sörkitä vanhaa\n",
    "df = original_df.copy()"
   ]
  },
  {
   "cell_type": "code",
   "execution_count": null,
   "id": "ordered-neighborhood",
   "metadata": {},
   "outputs": [],
   "source": [
    "# Tulostetaan ensimmäiset 5 riviä\n",
    "df.head()"
   ]
  },
  {
   "cell_type": "code",
   "execution_count": null,
   "id": "gross-charter",
   "metadata": {},
   "outputs": [],
   "source": [
    "# Tulostetaan datatyypit\n",
    "print(df.dtypes)"
   ]
  },
  {
   "cell_type": "code",
   "execution_count": null,
   "id": "responsible-greeting",
   "metadata": {
    "scrolled": false
   },
   "outputs": [],
   "source": [
    "# Valitaan ja summataan kolesteroliarvot iän mukaan kolesteroliarvot\n",
    "ages_chols = df.loc[:, [\"age\", \"chol\"]]\n",
    "\n",
    "age_over_50 = ages_chols[ ages_chols[\"age\"] <= 60]\n",
    "age_over_50 = age_over_50[ age_over_50[\"age\"] > 50]\n",
    "\n",
    "age_over_60 = ages_chols[ages_chols[\"age\"] <= 70]\n",
    "age_over_60 = age_over_60[age_over_60[\"age\"] >60]\n",
    "\n",
    "age_over_70 = ages_chols[ ages_chols[\"age\"] > 70 ]\n",
    "\n",
    "chol_sum_over_50 = sum(age_over_50[\"chol\"])\n",
    "chol_sum_over_60 = sum(age_over_60[\"chol\"])\n",
    "chol_sum_over_70 = sum(age_over_70[\"chol\"])\n",
    "\n",
    "# Visualisoidaan data\n",
    "df_plot = pd.DataFrame([[chol_sum_over_50, chol_sum_over_60, chol_sum_over_70]])\n",
    "df_plot.columns = ['Age over 50', 'Age over 60', 'Age over 70']\n",
    "\n",
    "df_plot.plot.bar(figsize=(13,8))\n",
    "plt.legend(loc=2)\n",
    "plt.ylabel('Cholesterol')\n",
    "plt.show()"
   ]
  },
  {
   "cell_type": "markdown",
   "id": "absolute-stocks",
   "metadata": {},
   "source": [
    "### Viisi oivaillusta tältä viikolta\n",
    "\n",
    "1. Datatiede kattaa tilastoanalyysin lisäksi monia muita osaamisalueita\n",
    "2. Dataa kerätään jatkuvasti ja paljon\n",
    "3. Datan käsittelyn välineet kehittyvät huimaa vaihtua\n",
    "4. Opin käyttämään Jupyteria datan käsittelyn välineenä\n",
    "5. Datan mallintaminen voi mennä pienemmästäkin syntaksivirheestä pieleen"
   ]
  },
  {
   "cell_type": "markdown",
   "id": "thousand-pressing",
   "metadata": {},
   "source": [
    "### Kehitysehdotukset\n",
    "\n",
    "En keksi vielä tältä viikolta kehitysehdotuksia. Haluan esittää siitä kiitokset, että vanhoilla materiaaleilla pystyy suorittamaan kurssia juuri siinä aikataulussa, mikä itselle sopii. Tämä on suuri helpostus minulle aikatauluni suunnittelun suhteen."
   ]
  },
  {
   "cell_type": "markdown",
   "id": "varied-establishment",
   "metadata": {},
   "source": [
    "# Luento 2"
   ]
  },
  {
   "cell_type": "markdown",
   "id": "flexible-circumstances",
   "metadata": {},
   "source": [
    "### Viikon Joda-opiskelut\n",
    "Tällä viikolla katsoin sekä luennon, että demon tallenteilta. Päiväkirjan laadin luentomateriaalin avulla."
   ]
  },
  {
   "cell_type": "markdown",
   "id": "absent-dining",
   "metadata": {},
   "source": [
    "### Datatieteen prosesista\n",
    "Datatieteen prosessiin kuuluu neljä päävaihetta: tiedon käsittely, analyysi, reflektio ja tulosten viestiminen vastaanottajalle soveltuvassa muodossa. Tästä proseduurista noin 80 % työpanoksesta menee ensimmäiseen vaiheeseen, mikä sisältää datan hankkimisen ja siivoamisen (80/20 -sääntö).  Data voidaan hakea esimerkiksi julkisten rajapintojen kautta, mittauslaitteiden avulla tai tuottamalla se manuaalisesti. Raakadatan perusteella ei usein voi suoraan tehdä analyysiä ja vetää siitä johtopäätöksiä, vaan se täytyy siivota ja formatoida uudestaan. Tämä johtuu siitä, että dataa tuskin on alun perin tuotettu sitä käyttötarkoitusta varten, mihin esimerkiksi tutkija sitä haluaa hyödyntää. Data saattaa usein sisältää myös virheitä (esim. perus kirjoitusvirheitä jne.), jotka saattavan kaataa tai aiheuttaa bugeja sitä käsittelevälle ohjelmistolle."
   ]
  },
  {
   "cell_type": "markdown",
   "id": "friendly-personal",
   "metadata": {},
   "source": [
    "### Datatieteilijä vs datainsinööri\n",
    "Yksi suurimmista eroista datatieteilijän ja datainsinöörin välillä on työprosessien eroavaisuus. ETL (Extract/Load/Transform) on tarkoitettu datainsinööreille ja DAD (Discover/Access /Distill) on datatieteilijöille. Datainsinöörin tehtävä on keskittyä datan käsittelyyn liittyviin teknisiin ratkaisuihin, kun taas datatieteilijä pyrkii luomaan datasta syvällisempää ymmärrystä ja luoda arvoa."
   ]
  },
  {
   "cell_type": "markdown",
   "id": "intensive-school",
   "metadata": {},
   "source": [
    "### Liiketoimintarelevanssi\n",
    "Data-analytiikalla on kyky luoda yritykselle valmiudet suorituskyvyn parantamiseen. Tämä tapahtuu lisäämällä ymmärrystä liiketoimintaprosessisista. Data-analytiikan koostuu seuraavista teemoista:\n",
    "- **Kuvaileva analytiikka**, mitä on tapahtunut?\n",
    "- **Diagnosoiva analytiikka**, miksi se on tapahtunut?\n",
    "- **Ennakoiva analytiikka**, mitä todennäköisesti tulee tapahtumaan?\n",
    "- **Ohjaava analytiikka**, mitä asialle pitäisi tehdä?\n",
    "\n",
    "Vaikka data-analytiikka luo edellytykset liiketoiminnan kehittämiselle, suurin osa yrityksistä ei kuitenkaan sitä ole vielä omaksunut."
   ]
  },
  {
   "cell_type": "markdown",
   "id": "brief-cheese",
   "metadata": {},
   "source": [
    "### Ryömijät ja raapijat\n",
    "Eräs tapa datankeruulle on ryömijöiden ja raapijoiden käyttö. Ryömijä on botti, joka on ohjelmoitu käymään systemaattisesti verkkosivuja läpi. Raapija on taas työkalu, joka kerää dataa verkkosivuilta. Käytännössä ryömijä ja raapija toimivat yhdessä siten, että raapija on ikään kuin ryömijän mukana ja kerää dataa samanaikaisesti, kun ryömijä käy verkkosivuja läpi. Ryömijöitä ja raapijoita käyttäessä tulee ottaa huomioon mahdolliset lailliset esteet, sillä niiden keräämä data ei välttämättä aina ole julkista. Tämä taas vaikuttaa siihen, kuinka kerättyä dataa saa käsitellä ja julkaista."
   ]
  },
  {
   "cell_type": "markdown",
   "id": "attached-venue",
   "metadata": {},
   "source": [
    "### Demo\n",
    "Demona toteutan samanlaisen datascraperin Pythonin Scrapy-kirjastoa käyttäen. Otan tähä mallia YouTube-videosta: https://www.youtube.com/watch?v=ogPMCpcgb-E. Huomaa, että demo löytyy kokonaisuudessaan samasta repositoriosta (reddit_scraper.py)."
   ]
  },
  {
   "cell_type": "code",
   "execution_count": null,
   "id": "enabling-samoa",
   "metadata": {},
   "outputs": [],
   "source": [
    "# Asennetaan Scraoy, ja generoidaan scraperin skeleton\n",
    "!pip install scrapy\n",
    "!scrapy genspider reddit_scraper reddit.com"
   ]
  },
  {
   "cell_type": "code",
   "execution_count": null,
   "id": "adequate-tamil",
   "metadata": {},
   "outputs": [],
   "source": [
    "# Hakee Redditin langasta r/dogs kaikki .jpg-muotoiset kuvat\n",
    "\n",
    "class RedditScraperSpider(scrapy.Spider):\n",
    "    name = 'reddit_scraper'\n",
    "    allowed_domains = ['reddit.com']\n",
    "    start_urls = ['https://www.reddit.com/r/dogs/']\n",
    "\n",
    "    def parse(self, response):\n",
    "        links = response.xpath(\"//img/@src\")\n",
    "        html = \"\"\n",
    "\n",
    "        for link in links:\n",
    "            url = link.get()\n",
    "\n",
    "            if any(extension in url for extension in [\".jpg\"]):\n",
    "                html += \"\"\"<a href=\"{url}\" target=\"_blank\"><img src=\"{url}\" height=\"25%\" width=\"25%\"/><a/>\"\"\".format(url=url)\n",
    "\n",
    "                with open(\"dogs.html\", \"a\") as page:\n",
    "                    page.write(html)\n",
    "                    page.close()\n"
   ]
  },
  {
   "cell_type": "code",
   "execution_count": null,
   "id": "elementary-canyon",
   "metadata": {},
   "outputs": [],
   "source": [
    "# Ajetaan scripti syöttämällä seuraava käsky komentoriville\n",
    "!scrapy runspider reddit_scraper.py"
   ]
  },
  {
   "cell_type": "markdown",
   "id": "dietary-injury",
   "metadata": {},
   "source": [
    "### Viisi oivaillusta tältä viikolta\n",
    "\n",
    "1. 80/20 -sääntö: datan keräämiseen ja siivoamiseen menee usein kauemmin, kuin sen analysoimiseen\n",
    "2. Datainsinööri hoitaa datankäsittelyn teknisen toteutuksen ja datatieteilijä luo sillä arvoa\n",
    "3. Data-analytiikan neljä teemaa\n",
    "4. Ryömijän ja raapijan yhteistoiminta\n",
    "5. Ryömijän ja raapijan toteuttaminen Pythonin Scrapy-kirjastolla"
   ]
  },
  {
   "cell_type": "markdown",
   "id": "shaped-remains",
   "metadata": {},
   "source": [
    "### Kehitysehdotukset\n",
    "\n",
    "En keksi vieläkään kehitysehdotuksia. Kurssi on ollut erittäin hyvin järjestetty (tähän mennessä), ja mielestäni monet kurssinvetäjät esim. tietotekniikan puolelta voisivat ottaa tästä mallia."
   ]
  },
  {
   "cell_type": "markdown",
   "id": "based-bridges",
   "metadata": {},
   "source": [
    "# Luento 3"
   ]
  },
  {
   "cell_type": "markdown",
   "id": "massive-skating",
   "metadata": {},
   "source": [
    "### Viikon Joda-opiskelut\n",
    "Tällä viikolla koostin oppimispäiväkirjani materiaalit vuoden 2020 Joda-totetuksen avulla. Myös YouTube-videot https://www.youtube.com/watch?v=z-EtmaFJieY sekä https://www.youtube.com/watch?v=HcqpanDadyQ toimivat viikolla oppimateriaaleina."
   ]
  },
  {
   "cell_type": "markdown",
   "id": "sunset-desperate",
   "metadata": {},
   "source": [
    "### Koneoppiminen\n",
    "Kun ensimmäisen kerran kuulin sanat ”tekoäly” ja ”koneoppiminen”, mieleeni tulivat ensimmäisenä Terminator ja Ex Machina elokuvat, sekä ajatus siitä, että ne ovat vielä kaukana tulevaisuudessa. Asia ei kuitenkaan ole näin: me olemme käytännössä kokoa ajan tekoälyn ja koneoppimisen kanssa. Esimerkiksi Instagramissa mainokset, ehdotetut julkaisut ja ehdotetut käyttäjätilit, joita voisin olla kiinnostunut ovat kaikki asioita, josta tietokone on datan perusteella päätellyt minun olevan kiinnostunut.  Myös esimerkiksi Googlen hakukone osaa korjata kirjoitusvirheesi, koska sen on todennäköisesti tietää, mitä yritit kirjoittaa.\n",
    "\n",
    "Koneoppiminen on kaikessa yksinkertaisuudessaan tekoälyn osa-alue, joka ideana on opettaa tietokone tekemään ennusteita tai päätöksiä. Mitä enemmän dataa tietokoneelle syötetään, sitä paremmin tietokone oppii ja sitä parempia päätöksiä/ennusteita se tekee."
   ]
  },
  {
   "cell_type": "markdown",
   "id": "thorough-finding",
   "metadata": {},
   "source": [
    "### Esimerkki\n",
    "Otetaan yksinkertainen esimerkki: opetetaan kone päättämään, onko kyseessä saksanpaimenkoira vai susi. Ihminen osaisi tehdä päätöksen pelkästään katsomalla kahta eri eläintä, mutta tietokone pyrkii ikään kuin ”purkamaan” sen saaman tiedon **piirteisiin**. Näitä piirteitä voivat tässä esimerkissä olla eläimen paino, ja pituus. Tämän jälkeen koneelle voidaan antaa harjoitteludataa:\n",
    "\n",
    "| Paino | Pituus | Eläin |\n",
    "| --- | --- | --- |\n",
    "| 42 | 121 | Susi |\n",
    "| 26 | 79 | Koira |\n",
    "| 37 | 90 | Koira |\n",
    "| ... | ... | ... |\n",
    "| 58 | 134 | Susi |\n",
    "\n",
    "Ja tämä perusteella kone oppii luomaan rajat päätöksenteolle alla olevan kuvan mukaisesti:\n",
    "\n",
    "![title](img/kuvaaja.jpeg)\n",
    "\n",
    "Kuten huomataan, osa koirista menee susirajan sisäpuolelle ja osa susista jää taas koirarajan sisälle. Harjoitusdatan perusteella tietokone ei välttämättä pysty piirtämään kovin tarkkaa rajaa koirien ja susien välille, vaan se tekee datan perusteella rajan siten, että mahdollisimman vähän susia jää koirarajan sisälle ja toisinpäin. Mitä enemmän dataa tietokone saa, sitä tarkemman rajan se osaa piirtää ja sitä päätöksiä se oppii tekemään. "
   ]
  },
  {
   "cell_type": "markdown",
   "id": "declared-cambridge",
   "metadata": {},
   "source": [
    "### Demo\n",
    "Tämä demo on käytännössä kopioitu luento/demosessiomateriaaleista. Yritän omin sanoin kuitenkin selittää, mitä missäkin tapahtuu."
   ]
  },
  {
   "cell_type": "code",
   "execution_count": null,
   "id": "positive-rough",
   "metadata": {},
   "outputs": [],
   "source": [
    "# Asennetaan tarvittavat kirjastot, importit tehty muistion alussa\n",
    "!pip install sklearn\n",
    "!pip install numpy"
   ]
  },
  {
   "cell_type": "code",
   "execution_count": null,
   "id": "fabulous-mineral",
   "metadata": {},
   "outputs": [],
   "source": [
    "# Ladataan data\n",
    "original_df = pd.read_csv(\"credit_train.csv\")\n",
    "df = original_df.copy()\n",
    "df.head()"
   ]
  },
  {
   "cell_type": "code",
   "execution_count": null,
   "id": "prospective-equity",
   "metadata": {},
   "outputs": [],
   "source": [
    "\"\"\"\n",
    "Data täytyy ensi siivota, ennen kuin sitä voi käsitellä.\n",
    "Tämä funktio siivoaa datan (esim. poistaa NaN-rivit) ja muokaa datan\n",
    "meidän käyttötarkoitukseen sopivaan muotoon\n",
    "\"\"\"\n",
    "\n",
    "def siivoaData(data, slice=1.0):\n",
    "\n",
    "    poistettavatMuuttujat = ['Loan ID','Customer ID']\n",
    "    data = data.drop(poistettavatMuuttujat, axis=1)\n",
    "\n",
    "    sarakkeet =['Current Loan Amount','Credit Score','Annual Income','Years of Credit History',\n",
    "            'Months since last delinquent','Number of Open Accounts','Number of Credit Problems',\n",
    "           'Current Credit Balance','Maximum Open Credit','Bankruptcies','Tax Liens']\n",
    "    muuttujanTäyttäjä = Imputer()\n",
    "    data[sarakkeet] = muuttujanTäyttäjä.fit_transform(data[sarakkeet])\n",
    "    data[sarakkeet] = data[sarakkeet].astype(int)\n",
    "\n",
    "    data=data.dropna()\n",
    "\n",
    "    if slice > 0 and slice < 1:\n",
    "        mid_point = int(len(data)*slice)\n",
    "        data = data.loc[:mid_point]\n",
    "\n",
    "    y = data['Loan Status']\n",
    "    new_y = []\n",
    "    for i in y:\n",
    "        if i == 'Fully Paid':\n",
    "            new_y.append(1)\n",
    "        else:\n",
    "            new_y.append(0)\n",
    "    data = data.drop('Loan Status', axis=1)\n",
    "\n",
    "    data = pd.get_dummies(data)\n",
    "    dataMean = np.mean(data, axis=0)\n",
    "    dataDev = np.std(data, axis=0)\n",
    "    norm_x = (data - dataMean) / dataDev\n",
    "\n",
    "    x = data.values\n",
    "    min_max_scaler = preprocessing.MinMaxScaler()\n",
    "    x_scaled = min_max_scaler.fit_transform(x)\n",
    "    normMinMax = pd.DataFrame(x_scaled)\n",
    "\n",
    "    return norm_x, normMinMax, data, new_y, dataMean, dataDev"
   ]
  },
  {
   "cell_type": "code",
   "execution_count": null,
   "id": "related-meter",
   "metadata": {},
   "outputs": [],
   "source": [
    "# Tämä funtio jaksaa datan opetus- ja testidataksi\n",
    "def opetusTestiJako(xMinMax, y):\n",
    "    x_train, x_test, y_train, y_test = train_test_split(x,y, test_size= 0.25, random_state=33)\n",
    "    return x_train, x_test, y_train, y_test"
   ]
  },
  {
   "cell_type": "code",
   "execution_count": null,
   "id": "fantastic-growing",
   "metadata": {},
   "outputs": [],
   "source": [
    "# Siivotan data\n",
    "x, xMinMax, xNoNorm, y, xMean, xDev = siivoaData(df)\n",
    "\n",
    "# Jaetaan se opetus- ja testidataksi\n",
    "_train, x_test, y_train, y_test = opetusTestiJako(x,y)\n",
    "xMinMax_train, xMinMax_test, y_train, y_test = opetusTestiJako(xMinMax,y)\n",
    "xNoNorm_train, xNoNorm_test, y_train, y_test = opetusTestiJako(xNoNorm,y)\n",
    "\n",
    "# Luodaan datan avulla malli\n",
    "clf = SGDClassifier()\n",
    "clf.fit(xNoNorm_train, y_train)\n",
    "\n",
    "# Lasketaan harjoitteludatan tarkuus-arvo\n",
    "y_train_pred = clf.predict(xNoNorm_train)\n",
    "print(\"Harjoitteludatan tarkuus-arvo\")\n",
    "print (metrics.accuracy_score(y_train, y_train_pred))\n",
    "\n",
    "# Lasketaan testidatan tarkuus-arvo\n",
    "y_pred = clf.predict(xNoNorm_test)\n",
    "print(\"Restidatan tarkuus-arvo\")\n",
    "print (metrics.accuracy_score(y_test, y_pred))\n",
    "\n",
    "# Näytettään luokitteluraportti\n",
    "print(\"Luokitteluraportti\")\n",
    "print (metrics.classification_report(y_test, y_pred))"
   ]
  },
  {
   "cell_type": "markdown",
   "id": "mineral-franklin",
   "metadata": {},
   "source": [
    "### Viisi oivaillusta tältä viikolta\n",
    "1. Kuinka koneoppiminen teoriassa tapahtuu\n",
    "2. Koneoppimisella on eri meneltemiä\n",
    "3. Mitä enemmän dataa koneelle syöttää, sitä paremmin se oppii\n",
    "4. Koneoppisen tekeminen käytännössä Pyhtonillla\n",
    "5. Datan siivoamisen oleellisuusden huomaaminen"
   ]
  },
  {
   "cell_type": "markdown",
   "id": "ancient-delight",
   "metadata": {},
   "source": [
    "# Luento 4"
   ]
  },
  {
   "cell_type": "markdown",
   "id": "unlimited-stream",
   "metadata": {},
   "source": [
    "### Datatieteen projektimalli\n",
    "Kurssin harjoitustyössä käytön prosessimallinen CRISP-DM:ää. Tässä mallista korostuu vahvasti se, että projektia ei tehdä vain huvin ja urheilun vuoksi, vaan datatiedeprojektin tulisi lähtökohtaisesti tuoda organisaatiolle lisäarvoa **ratkaisemalla jokin liiketoimintaongelma**.  Jotta tällainen ratkaisu voidaan löytää, tulee ensin ymmärtää oma liiketoiminta, miten jokin siihen liittyvä asia (esimerkiksi tuote) paranee, kun siihen lisätään datakomponentti.\n",
    "Toinen harjoitustyössä käytettävä prosessimalli on mahdollisuuskehikko, jossa on seuraavat vaiheet:\n",
    "1. **Ongelma.** Tunnista ja kuvaa, minkä ongelman haluat ratkaista\n",
    "2. **Kuka käyttää ratkaisua?** Eli ketä/ketkä ongelman ratkaisemisesta hyötyy\n",
    "3. **Kuvaa, miten ongelma on ratkaistu tänään.** Onko ratkaisu esimerkiksi kierretty jotenkin?\n",
    "4. **Miten tarjottu ratkaisu vaikuttaa liiketoimintaan?** Tai miten ratkaisematta jättäminen vaikuttaa?\n",
    "5. **Miten ratkaisua käytetään?** Eli mitä hyötyjä käyttäjän saavat ratkaisusta\n",
    "6. **Ratkaisun käytön ja hyödyn mittaaminen**\n",
    "7. **Teknologian hyväksyntä**, joka saadaan koetun hyödyn (subjektiivinen, ei välttämättä objektiivinen hyöty) ja helppokäyttöisyyden avulla\n",
    "8. **Liiketoimintaan saadun vaikutuksen mittaaminen**\n",
    "9. **Budjetti**\n",
    "\n",
    "Harjoitustyössä keskitytään vaiheisiin 1–4. \n",
    "Datatieteen projektille on tyypillistä, että siinä vaiheessa, kun prosessi on käyty läpi, niin siitä herää vielä lisää ongelmia ja niiden datatieteellisiä ratkaisumahdollisuuksia. Datatieteen työt ovat siis yhtä jatkuvaa iteraatiota.\n"
   ]
  },
  {
   "cell_type": "markdown",
   "id": "solar-intervention",
   "metadata": {},
   "source": [
    "### Demo\n",
    "Demoan datan hakemista Inside AirBnB:stä."
   ]
  },
  {
   "cell_type": "code",
   "execution_count": null,
   "id": "common-spectrum",
   "metadata": {},
   "outputs": [],
   "source": [
    "# Haetaan Excel-tiedosto sivulta\n",
    "LISTINGSFILE = 'http://data.insideairbnb.com/germany/be/berlin/2020-03-17/data/listings.csv.gz'\n",
    "\n",
    "# Valitaan sarakkeet hinta ja makuuhuone\n",
    "cols = ['price', 'bedrooms']\n",
    "\n",
    "# Luetaan dataframeen\n",
    "df = pd.read_csv(LISTINGSFILE, usecols=cols, compression='infer')\n",
    "number_of_results = len(df.index)\n",
    "\n",
    "print(\"Datasta löytyi \" + str(number_of_results) + \" osumaa.\")"
   ]
  },
  {
   "cell_type": "markdown",
   "id": "sharp-advocate",
   "metadata": {},
   "source": [
    "### Viisi oivaillusta tältä viikolta\n",
    "1. Datatieteen projekteissa fokus on liiketoimintarelevanssissa, eikä itse datassa\n",
    "2. CRIPS-DM on hyvä prosessimalli datatieteen projekteille\n",
    "3. Mahdollisuuskehikon vaiheet\n",
    "4. Datan hakuu löytyy paljon rajapintoja\n",
    "5. Datan hakeminen käytännössä "
   ]
  },
  {
   "cell_type": "markdown",
   "id": "sudden-scholarship",
   "metadata": {},
   "source": [
    "### Kehitysehdotukset\n",
    "YouTubesta löytyy aika paljon tutoriaaleja datatieteen projekteihin, esim. Twitterin rajanpinnan käyttö. Näistä voisi poimia muutamia esimerkkejä, joista voisi ottaa mallia omaan harjoitustyöhön halutessaan. Näistä esimerkeistä voisi esim. kertoa, mikä niissä on tehty hyvin ja mikä voitaisiin tehdä paremmin. Tällöin saataisiin enemmän konkreettisia esimerkkejä, joita voisi katselle ns. lisämateriaalina. Tällaiset esimerkit ovat mielestäni erityisin hyviä heille, keillä on vähän kokemusta koodaamisesta ja rajapinnoista."
   ]
  },
  {
   "cell_type": "markdown",
   "id": "comfortable-rating",
   "metadata": {},
   "source": [
    "# Luento 5\n",
    "### Viikon Joda-opiskelut\n",
    "Tämän viikon kurssimateriaaleista kävin läpi vain Jupyter työkirjat. Apunani olivat Wikipedia: https://en.wikipedia.org/wiki/Natural_language_processing & https://fi.wikipedia.org/wiki/P%C3%A4%C3%A4komponenttianalyysi ja YouTube: https://www.youtube.com/watch?v=X2vAabgKiuM.\n",
    "### NLP\n",
    "NLP eli natural language processing on kieli- ja tietojenkäsittelytieteiden sekä tekoälyn osa, joka koskee tietokoneiden ja ihmisen kielen välistä interaktiota, erityisesti sitä, miten tietokoneet prosessoivat suurta määrä luonnollista lingvististä dataa.  Tämän seurauksena tietokone pystyy ymmärtämään esimerkiksi puhuttua ja kirjoitettua kieltä, sekä generoimaan itse kieltä. Yleisiä NLP:n sovelluksia ovat esimerkiksi chatbotit ja Google kääntäjä."
   ]
  },
  {
   "cell_type": "markdown",
   "id": "automotive-bibliography",
   "metadata": {},
   "source": [
    "### PCA\n",
    "PCA eli principle component analysis (pääkomponenttianalyysi) on tekniikan, joka avulla voidaan redusoida esimerkiksi neliulotteisen datan dimensio. Tämän tavoitteena on löytää monidimensioisesta datasta komponentti, joilla datan keskisimmät piirteet voidaan esittää ilman informaatiohukkaa."
   ]
  },
  {
   "cell_type": "markdown",
   "id": "pressing-gather",
   "metadata": {},
   "source": [
    "### DEMO\n",
    "Demoan PCA:ta demoluennon esimerkin mukaisesti."
   ]
  },
  {
   "cell_type": "code",
   "execution_count": 10,
   "id": "pressed-casino",
   "metadata": {},
   "outputs": [
    {
     "data": {
      "text/html": [
       "<div>\n",
       "<style scoped>\n",
       "    .dataframe tbody tr th:only-of-type {\n",
       "        vertical-align: middle;\n",
       "    }\n",
       "\n",
       "    .dataframe tbody tr th {\n",
       "        vertical-align: top;\n",
       "    }\n",
       "\n",
       "    .dataframe thead th {\n",
       "        text-align: right;\n",
       "    }\n",
       "</style>\n",
       "<table border=\"1\" class=\"dataframe\">\n",
       "  <thead>\n",
       "    <tr style=\"text-align: right;\">\n",
       "      <th></th>\n",
       "      <th>age</th>\n",
       "      <th>sex</th>\n",
       "      <th>cp</th>\n",
       "      <th>trestbps</th>\n",
       "      <th>chol</th>\n",
       "      <th>fbs</th>\n",
       "      <th>restecg</th>\n",
       "      <th>thalach</th>\n",
       "      <th>exang</th>\n",
       "      <th>oldpeak</th>\n",
       "      <th>slope</th>\n",
       "      <th>ca</th>\n",
       "      <th>thal</th>\n",
       "      <th>target</th>\n",
       "    </tr>\n",
       "  </thead>\n",
       "  <tbody>\n",
       "    <tr>\n",
       "      <th>0</th>\n",
       "      <td>63</td>\n",
       "      <td>1</td>\n",
       "      <td>3</td>\n",
       "      <td>145</td>\n",
       "      <td>233</td>\n",
       "      <td>1</td>\n",
       "      <td>0</td>\n",
       "      <td>150</td>\n",
       "      <td>0</td>\n",
       "      <td>2.3</td>\n",
       "      <td>0</td>\n",
       "      <td>0</td>\n",
       "      <td>1</td>\n",
       "      <td>1</td>\n",
       "    </tr>\n",
       "    <tr>\n",
       "      <th>1</th>\n",
       "      <td>37</td>\n",
       "      <td>1</td>\n",
       "      <td>2</td>\n",
       "      <td>130</td>\n",
       "      <td>250</td>\n",
       "      <td>0</td>\n",
       "      <td>1</td>\n",
       "      <td>187</td>\n",
       "      <td>0</td>\n",
       "      <td>3.5</td>\n",
       "      <td>0</td>\n",
       "      <td>0</td>\n",
       "      <td>2</td>\n",
       "      <td>1</td>\n",
       "    </tr>\n",
       "    <tr>\n",
       "      <th>2</th>\n",
       "      <td>41</td>\n",
       "      <td>0</td>\n",
       "      <td>1</td>\n",
       "      <td>130</td>\n",
       "      <td>204</td>\n",
       "      <td>0</td>\n",
       "      <td>0</td>\n",
       "      <td>172</td>\n",
       "      <td>0</td>\n",
       "      <td>1.4</td>\n",
       "      <td>2</td>\n",
       "      <td>0</td>\n",
       "      <td>2</td>\n",
       "      <td>1</td>\n",
       "    </tr>\n",
       "    <tr>\n",
       "      <th>3</th>\n",
       "      <td>56</td>\n",
       "      <td>1</td>\n",
       "      <td>1</td>\n",
       "      <td>120</td>\n",
       "      <td>236</td>\n",
       "      <td>0</td>\n",
       "      <td>1</td>\n",
       "      <td>178</td>\n",
       "      <td>0</td>\n",
       "      <td>0.8</td>\n",
       "      <td>2</td>\n",
       "      <td>0</td>\n",
       "      <td>2</td>\n",
       "      <td>1</td>\n",
       "    </tr>\n",
       "    <tr>\n",
       "      <th>4</th>\n",
       "      <td>57</td>\n",
       "      <td>0</td>\n",
       "      <td>0</td>\n",
       "      <td>120</td>\n",
       "      <td>354</td>\n",
       "      <td>0</td>\n",
       "      <td>1</td>\n",
       "      <td>163</td>\n",
       "      <td>1</td>\n",
       "      <td>0.6</td>\n",
       "      <td>2</td>\n",
       "      <td>0</td>\n",
       "      <td>2</td>\n",
       "      <td>1</td>\n",
       "    </tr>\n",
       "  </tbody>\n",
       "</table>\n",
       "</div>"
      ],
      "text/plain": [
       "   age  sex  cp  trestbps  chol  fbs  restecg  thalach  exang  oldpeak  slope  \\\n",
       "0   63    1   3       145   233    1        0      150      0      2.3      0   \n",
       "1   37    1   2       130   250    0        1      187      0      3.5      0   \n",
       "2   41    0   1       130   204    0        0      172      0      1.4      2   \n",
       "3   56    1   1       120   236    0        1      178      0      0.8      2   \n",
       "4   57    0   0       120   354    0        1      163      1      0.6      2   \n",
       "\n",
       "   ca  thal  target  \n",
       "0   0     1       1  \n",
       "1   0     2       1  \n",
       "2   0     2       1  \n",
       "3   0     2       1  \n",
       "4   0     2       1  "
      ]
     },
     "execution_count": 10,
     "metadata": {},
     "output_type": "execute_result"
    }
   ],
   "source": [
    "original_df = pd.read_csv(\"heart.csv\")\n",
    "df = original_df.copy()\n",
    "df.head()"
   ]
  },
  {
   "cell_type": "code",
   "execution_count": 4,
   "id": "forced-title",
   "metadata": {},
   "outputs": [],
   "source": [
    "# Datan normalisaatio\n",
    "\n",
    "xMean = np.mean(df, axis=0)\n",
    "xDev = np.std(df, axis=0)\n",
    "xNorm = (df - xMean) / xDev\n",
    "\n",
    "x = df.values\n",
    "min_max_scaler = preprocessing.MinMaxScaler()\n",
    "x_scaled = min_max_scaler.fit_transform(x)\n",
    "xMinMax = pd.DataFrame(x_scaled)"
   ]
  },
  {
   "cell_type": "code",
   "execution_count": 5,
   "id": "sexual-assembly",
   "metadata": {},
   "outputs": [],
   "source": [
    "# Ajetaan PCA kahdella komponentilla.\n",
    "pca = PCA(n_components=2)"
   ]
  },
  {
   "cell_type": "code",
   "execution_count": 11,
   "id": "subsequent-surprise",
   "metadata": {},
   "outputs": [
    {
     "data": {
      "image/png": "[encoded data removed]",
      "text/plain": [
       "<Figure size 1440x720 with 1 Axes>"
      ]
     },
     "metadata": {},
     "output_type": "display_data"
    }
   ],
   "source": [
    "# Visualisoidaan L2-normalisoitu data\n",
    "reducedX = pca.fit_transform(xNorm)\n",
    "\n",
    "fig, ax = plt.subplots(figsize=(20, 10))\n",
    "\n",
    "colors = ['blue' if l==1 else 'red' for l in df[\"sex\"]]\n",
    "for dp, c in zip(reducedX[:1000], colors[:1000]):\n",
    "    ax.scatter(dp[0], dp[1], s=10, color=c)\n",
    "plt.show()"
   ]
  },
  {
   "cell_type": "markdown",
   "id": "therapeutic-mauritius",
   "metadata": {},
   "source": [
    "### Viikon viisi oivallusta\n",
    "1. NLP, ja sen sovelluskohteet\n",
    "2. NLP käytännössä\n",
    "3. Tokenisaatio NLP:ssä\n",
    "4. PCA, ja sen sovelluskohteet\n",
    "5. PCA käytännössä\n"
   ]
  },
  {
   "cell_type": "code",
   "execution_count": null,
   "id": "fatty-footwear",
   "metadata": {},
   "outputs": [],
   "source": []
  }
 ],
 "metadata": {
  "kernelspec": {
   "display_name": "Python 3",
   "language": "python",
   "name": "python3"
  },
  "language_info": {
   "codemirror_mode": {
    "name": "ipython",
    "version": 3
   },
   "file_extension": ".py",
   "mimetype": "text/x-python",
   "name": "python",
   "nbconvert_exporter": "python",
   "pygments_lexer": "ipython3",
   "version": "3.8.5"
  }
 },
 "nbformat": 4,
 "nbformat_minor": 5
}
