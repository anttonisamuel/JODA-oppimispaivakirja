{
 "cells": [
  {
   "cell_type": "code",
   "execution_count": 1,
   "id": "right-clock",
   "metadata": {},
   "outputs": [],
   "source": [
    "# Ilmeisesti on best practice importtaa kaikki aina aluksi\n",
    "import pandas as pd\n",
    "import matplotlib.pyplot as plt\n",
    "from matplotlib import style\n",
    "style.use('ggplot')"
   ]
  },
  {
   "cell_type": "markdown",
   "id": "literary-consolidation",
   "metadata": {},
   "source": [
    "# Luento 1"
   ]
  },
  {
   "cell_type": "markdown",
   "id": "whole-spanish",
   "metadata": {},
   "source": [
    "### Viikon Joda-opiskelut\n",
    "\n",
    "Viikon luennon katsoin tallenteelta, mutta demoluennon ensimmäisen puoliskon katsoin livenä. Päiväkirjan laatimisessa käytetty materiaali tulee lähinnä luentomateriaaleista, mutta esimerkiksi Jupyterin käyttöönotossa hain apua YouTubesta: https://www.youtube.com/watch?v=DKiI6NfSIe8&t=2s. "
   ]
  },
  {
   "cell_type": "markdown",
   "id": "through-wiring",
   "metadata": {},
   "source": [
    "### Data scientist?\n",
    "\n",
    "Datatiede on saanut paljon kritiikkiä siitä, että se on vain tilastotiedettä modernisoidulla nimellä ja datatieteilijä on vain tilastotieteilijä hienommalla titteliä. Asia ei todellisuudessa kuitenkaan ole näin: tilastollisen analyysin lisäksi datatieteilijän tulee hanskata monia muitakin aihealueita, kuten liiketoiminta, ohjelmointi, tietokannat sekä data tehokas viestintä yleisölleen esimerkiksi visualisoinnin kautta. Voidaan siis sanoa, että tilastotiede on osa datatiedettä.\n",
    "\n",
    "CRIPS-DM malli kuvaa mielestäni hyvin datatieteilijän työnkuvaa. Aluksi lähetään siitä, että ymmärretään omaa liiketoimintaa ja dataa. Tämän jälkeen täytyy ymmärtää, että miten ne liittyvät yhteen ja millainen data on ylipäätänsä relevanttia liiketoiminnan kannalta. Tämä data täytyy sen jälkeen ”siivota” kaikesta kyseenomaisessa tapauksessa epärelevantista datasta ja mallintaa siten, että se on helppo viestiä ja helposti ymmärrettävissä. Lopuksi datan perusteella pitää osata tehdä johtopäätöksiä liiketoiminnan tukemiseksi."
   ]
  },
  {
   "cell_type": "markdown",
   "id": "peripheral-milton",
   "metadata": {},
   "source": [
    "### Data\n",
    "\n",
    "Internet ja sen mukana tulleet hullutukset kuten sosiaalinen media ovat mahdollistaneet yritysten liiketoiminnan ainoastaan datan keräämiselle ja myymiselle (Netflixissä on tosi mielenkiintoinen dokkari asiaan liittyen). Yritykset kuten Facebook, keräävät käyttäjistään mahdollisimman paljon dataa ja selvittävät sen avulla, onko kyseinen henkilö esimerkiksi kiinnostunut ostamaan uusia kenkiä. Tämän jälkeen Facebook voi myydä esimerkiksi mainospaikkoja siten, että kenkävalmistajien mainokset näkyvät vain heille, joilla todennäköisesti on intressejä ostaa kengät. Esimerkiksi Google tililtäsi näkee, mitä kaikkea Google sinusta tietää. Netflix dokkaria lainaten, ”datankerääjän todennäköisesti tietävät poliittiset näkemyksesi paremmin kuin sinä itse”.\n",
    "\n",
    "Datan käsittelyn välineiden, kuten tekoälyn kehitys on mahdollistanut myös sen, että tästä datasta voidaan helposti jalostaa tietoa. Myös laskentatehon kasvaminen ja uusien työvälineiden jatkuva keksiminen ja päivittyminen ovat olleet vauhdittamassa datatieteen kehitystä ja kasvua. "
   ]
  },
  {
   "cell_type": "markdown",
   "id": "miniature-lightweight",
   "metadata": {},
   "source": [
    "### Demo\n",
    "\n",
    "Edellä kerrotun teorian lisäksi opin myös datan käsittelemistä Jupyterilla ja Pythonilla. Alla olevan demo data on sama, kuin aiemmin linkkaamassa \"Jupyter Notebook Tutorial\"-videossa, ja se löytyy täältä: https://www.kaggle.com/ronitf/heart-disease-uci. "
   ]
  },
  {
   "cell_type": "code",
   "execution_count": 2,
   "id": "treated-transparency",
   "metadata": {},
   "outputs": [],
   "source": [
    "# Luetaan data ja tallennetaan muuttujaan df\n",
    "original_df = pd.read_csv(\"heart.csv\")\n",
    "\n",
    "# Kopiodaan data uuteen muuttujaan, jotta ei sörkitä vanhaa\n",
    "df = original_df.copy()"
   ]
  },
  {
   "cell_type": "code",
   "execution_count": 3,
   "id": "differential-error",
   "metadata": {},
   "outputs": [
    {
     "data": {
      "text/html": [
       "<div>\n",
       "<style scoped>\n",
       "    .dataframe tbody tr th:only-of-type {\n",
       "        vertical-align: middle;\n",
       "    }\n",
       "\n",
       "    .dataframe tbody tr th {\n",
       "        vertical-align: top;\n",
       "    }\n",
       "\n",
       "    .dataframe thead th {\n",
       "        text-align: right;\n",
       "    }\n",
       "</style>\n",
       "<table border=\"1\" class=\"dataframe\">\n",
       "  <thead>\n",
       "    <tr style=\"text-align: right;\">\n",
       "      <th></th>\n",
       "      <th>age</th>\n",
       "      <th>sex</th>\n",
       "      <th>cp</th>\n",
       "      <th>trestbps</th>\n",
       "      <th>chol</th>\n",
       "      <th>fbs</th>\n",
       "      <th>restecg</th>\n",
       "      <th>thalach</th>\n",
       "      <th>exang</th>\n",
       "      <th>oldpeak</th>\n",
       "      <th>slope</th>\n",
       "      <th>ca</th>\n",
       "      <th>thal</th>\n",
       "      <th>target</th>\n",
       "    </tr>\n",
       "  </thead>\n",
       "  <tbody>\n",
       "    <tr>\n",
       "      <th>0</th>\n",
       "      <td>63</td>\n",
       "      <td>1</td>\n",
       "      <td>3</td>\n",
       "      <td>145</td>\n",
       "      <td>233</td>\n",
       "      <td>1</td>\n",
       "      <td>0</td>\n",
       "      <td>150</td>\n",
       "      <td>0</td>\n",
       "      <td>2.3</td>\n",
       "      <td>0</td>\n",
       "      <td>0</td>\n",
       "      <td>1</td>\n",
       "      <td>1</td>\n",
       "    </tr>\n",
       "    <tr>\n",
       "      <th>1</th>\n",
       "      <td>37</td>\n",
       "      <td>1</td>\n",
       "      <td>2</td>\n",
       "      <td>130</td>\n",
       "      <td>250</td>\n",
       "      <td>0</td>\n",
       "      <td>1</td>\n",
       "      <td>187</td>\n",
       "      <td>0</td>\n",
       "      <td>3.5</td>\n",
       "      <td>0</td>\n",
       "      <td>0</td>\n",
       "      <td>2</td>\n",
       "      <td>1</td>\n",
       "    </tr>\n",
       "    <tr>\n",
       "      <th>2</th>\n",
       "      <td>41</td>\n",
       "      <td>0</td>\n",
       "      <td>1</td>\n",
       "      <td>130</td>\n",
       "      <td>204</td>\n",
       "      <td>0</td>\n",
       "      <td>0</td>\n",
       "      <td>172</td>\n",
       "      <td>0</td>\n",
       "      <td>1.4</td>\n",
       "      <td>2</td>\n",
       "      <td>0</td>\n",
       "      <td>2</td>\n",
       "      <td>1</td>\n",
       "    </tr>\n",
       "    <tr>\n",
       "      <th>3</th>\n",
       "      <td>56</td>\n",
       "      <td>1</td>\n",
       "      <td>1</td>\n",
       "      <td>120</td>\n",
       "      <td>236</td>\n",
       "      <td>0</td>\n",
       "      <td>1</td>\n",
       "      <td>178</td>\n",
       "      <td>0</td>\n",
       "      <td>0.8</td>\n",
       "      <td>2</td>\n",
       "      <td>0</td>\n",
       "      <td>2</td>\n",
       "      <td>1</td>\n",
       "    </tr>\n",
       "    <tr>\n",
       "      <th>4</th>\n",
       "      <td>57</td>\n",
       "      <td>0</td>\n",
       "      <td>0</td>\n",
       "      <td>120</td>\n",
       "      <td>354</td>\n",
       "      <td>0</td>\n",
       "      <td>1</td>\n",
       "      <td>163</td>\n",
       "      <td>1</td>\n",
       "      <td>0.6</td>\n",
       "      <td>2</td>\n",
       "      <td>0</td>\n",
       "      <td>2</td>\n",
       "      <td>1</td>\n",
       "    </tr>\n",
       "  </tbody>\n",
       "</table>\n",
       "</div>"
      ],
      "text/plain": [
       "   age  sex  cp  trestbps  chol  fbs  restecg  thalach  exang  oldpeak  slope  \\\n",
       "0   63    1   3       145   233    1        0      150      0      2.3      0   \n",
       "1   37    1   2       130   250    0        1      187      0      3.5      0   \n",
       "2   41    0   1       130   204    0        0      172      0      1.4      2   \n",
       "3   56    1   1       120   236    0        1      178      0      0.8      2   \n",
       "4   57    0   0       120   354    0        1      163      1      0.6      2   \n",
       "\n",
       "   ca  thal  target  \n",
       "0   0     1       1  \n",
       "1   0     2       1  \n",
       "2   0     2       1  \n",
       "3   0     2       1  \n",
       "4   0     2       1  "
      ]
     },
     "execution_count": 3,
     "metadata": {},
     "output_type": "execute_result"
    }
   ],
   "source": [
    "# Tulostetaan ensimmäiset 5 riviä\n",
    "df.head()"
   ]
  },
  {
   "cell_type": "code",
   "execution_count": 4,
   "id": "artistic-leeds",
   "metadata": {},
   "outputs": [
    {
     "name": "stdout",
     "output_type": "stream",
     "text": [
      "age           int64\n",
      "sex           int64\n",
      "cp            int64\n",
      "trestbps      int64\n",
      "chol          int64\n",
      "fbs           int64\n",
      "restecg       int64\n",
      "thalach       int64\n",
      "exang         int64\n",
      "oldpeak     float64\n",
      "slope         int64\n",
      "ca            int64\n",
      "thal          int64\n",
      "target        int64\n",
      "dtype: object\n"
     ]
    }
   ],
   "source": [
    "# Tulostetaan datatyypit\n",
    "print(df.dtypes)"
   ]
  },
  {
   "cell_type": "code",
   "execution_count": 18,
   "id": "executed-brisbane",
   "metadata": {
    "scrolled": false
   },
   "outputs": [
    {
     "data": {
      "image/png": "[encoded data removed]",
      "text/plain": [
       "<Figure size 936x576 with 1 Axes>"
      ]
     },
     "metadata": {},
     "output_type": "display_data"
    }
   ],
   "source": [
    "# Valitaan ja summataan kolesteroliarvot iän mukaan kolesteroliarvot\n",
    "ages_chols = df.loc[:, [\"age\", \"chol\"]]\n",
    "\n",
    "age_over_50 = ages_chols[ ages_chols[\"age\"] <= 60]\n",
    "age_over_50 = age_over_50[ age_over_50[\"age\"] > 50]\n",
    "\n",
    "age_over_60 = ages_chols[ages_chols[\"age\"] <= 70]\n",
    "age_over_60 = age_over_60[age_over_60[\"age\"] >60]\n",
    "\n",
    "age_over_70 = ages_chols[ ages_chols[\"age\"] > 70 ]\n",
    "\n",
    "chol_sum_over_50 = sum(age_over_50[\"chol\"])\n",
    "chol_sum_over_60 = sum(age_over_60[\"chol\"])\n",
    "chol_sum_over_70 = sum(age_over_70[\"chol\"])\n",
    "\n",
    "# Visualisoidaan data\n",
    "df_plot = pd.DataFrame([[chol_sum_over_50, chol_sum_over_60, chol_sum_over_70]])\n",
    "df_plot.columns = ['Age over 50', 'Age over 60', 'Age over 70']\n",
    "\n",
    "df_plot.plot.bar(figsize=(13,8))\n",
    "plt.legend(loc=2)\n",
    "plt.ylabel('Cholesterol')\n",
    "plt.show()"
   ]
  },
  {
   "cell_type": "markdown",
   "id": "recreational-candidate",
   "metadata": {},
   "source": [
    "### Viisi oivaillusta tältä viikolta\n",
    "\n",
    "1. Datatiede kattaa monia osaamisalueita\n",
    "2. Dataa kerätään jatkuvasti ja paljon\n",
    "3. Datan käsittelyn välineet kehittyvät huimaa vaihtua\n",
    "4. Opin käyttämään Jupyteria datan käsittelyn välineenä\n",
    "5. Datan mallintaminen voi mennä pienemmästäkin syntaksivirheestä pieleen"
   ]
  },
  {
   "cell_type": "code",
   "execution_count": null,
   "id": "therapeutic-biology",
   "metadata": {},
   "outputs": [],
   "source": []
  }
 ],
 "metadata": {
  "kernelspec": {
   "display_name": "Python 3",
   "language": "python",
   "name": "python3"
  },
  "language_info": {
   "codemirror_mode": {
    "name": "ipython",
    "version": 3
   },
   "file_extension": ".py",
   "mimetype": "text/x-python",
   "name": "python",
   "nbconvert_exporter": "python",
   "pygments_lexer": "ipython3",
   "version": "3.8.5"
  }
 },
 "nbformat": 4,
 "nbformat_minor": 5
}
